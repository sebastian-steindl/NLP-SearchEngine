{
 "metadata": {
  "language_info": {
   "codemirror_mode": {
    "name": "ipython",
    "version": 3
   },
   "file_extension": ".py",
   "mimetype": "text/x-python",
   "name": "python",
   "nbconvert_exporter": "python",
   "pygments_lexer": "ipython3",
   "version": "3.7.8-final"
  },
  "orig_nbformat": 2,
  "kernelspec": {
   "name": "python3",
   "display_name": "Python 3",
   "language": "python"
  }
 },
 "nbformat": 4,
 "nbformat_minor": 2,
 "cells": [
  {
   "source": [
    "Wir verwenden das Paket TextBlobDE, da er vortrainierte Modelle für deutsche Sentiment-Analyse enthält."
   ],
   "cell_type": "markdown",
   "metadata": {}
  },
  {
   "cell_type": "code",
   "execution_count": 1,
   "metadata": {},
   "outputs": [],
   "source": [
    "import pandas as pd\n",
    "from textblob_de import TextBlobDE as TextBlob\n",
    "from textblob.classifiers import NaiveBayesClassifier\n",
    "import re\n",
    "import nltk"
   ]
  },
  {
   "source": [
    "Einlesen der gecleanten Cases als csv Datei"
   ],
   "cell_type": "markdown",
   "metadata": {}
  },
  {
   "cell_type": "code",
   "execution_count": 3,
   "metadata": {},
   "outputs": [],
   "source": [
    "#df = pd.read_csv(\"./cleaned_cases.csv\", sep=\"\\t\")\n",
    "df = pd.read_csv(\"C:/Users/Sebastian/Desktop/Uni/NLP/NLPSTUDA/23-12-cleaned_cases.csv\", sep=\"\\t\")"
   ]
  },
  {
   "source": [
    "Wir verwenden einen NaiveBayesClassifier um das \"Sentiment\" der Cases zu bestimmen. Dabei bestimmen wir letztendlich den erwarteten Erfolg des Antrags aus den ersten Sätzen. Dafür sind wir den Text durchgegangen um einige typische negative und positive Formulierungen zu finden. Diese können wir für den NaiveBayesClassifier verwenden. "
   ],
   "cell_type": "markdown",
   "metadata": {}
  },
  {
   "cell_type": "code",
   "execution_count": 4,
   "metadata": {},
   "outputs": [],
   "source": [
    "negative = [\n",
    "    \"Der Antrag des Klägers wird abgelehnt\",\n",
    "    \"Der Antrag wird auf Kosten der Klägerin abgelehnt\",\n",
    "    \"Im Übrigen wird der Antrag abgelehnt\",\n",
    "    \"Der Antrag wird abgelehnt\",\n",
    "    \"Die Klage wird abgewiesen\",\n",
    "    \"Der Kläger trägt die Kosten des Verfahrens\",\n",
    "    \"Der Kläger trägt die Kosten des Zulassungsverfahrens\",\n",
    "    \"Die Kläger tragen die Kosten des Zulassungsverfahrens\",\n",
    "    \"Der Antrag der Kläger auf Zulassung der Berufung hat keinen Erfolg\",\n",
    "    \"Die Beklagte trägt die Kosten\",\n",
    "    \"schuldig\",\n",
    "    \"verklagt\",\n",
    "    \"Im Übrigen wird der Antrag abgelehnt\",\n",
    "    \"Die Beschwerde wird zurückgewiesen\",\n",
    "    \"Der Antragsteller trägt die Kosten des Beschwerdeverfahrens\",\n",
    "    \"Berufung ist nicht zuzulassen\",\n",
    "    \"Die Berufung der Klägerin gegen das Urteil der wird zurückgewiesen\",\n",
    "    \"Die Kosten des Berufungsverfahrens trägt die Klägerin\"\n",
    "]\n",
    "\n",
    "positive = [\n",
    "    \"Wird der Beschluss aufgehoben\",\n",
    "    \"Die Kosten des Beschwerdeverfahrens werden der Staatskasse auferlegt\",\n",
    "    \"Die Kosten fallen der Staatskasse zur Last\",\n",
    "    \"Das Verfahren wird eingestellt\",\n",
    "    \"stattgegeben\",\n",
    "    \"eingestellt\",\n",
    "    \"unschuldig\",\n",
    "    \"Das Urteil wird aufgehoben\",\n",
    "    \"Die Kosten trägt der Staat\",\n",
    "    \"freigesprochen\",\n",
    "    \"Der Antragsgegner trägt die Kosten\",\n",
    "]\n",
    "\n",
    "train = []\n",
    "\n",
    "for p in positive:\n",
    "    train.append((p, 1))\n",
    "\n",
    "for n in negative:\n",
    "    train.append((n, -1))"
   ]
  },
  {
   "source": [
    "Positive Sätze werden mit 1 bewerten, negative mit -1. Damit wird der Classifier trainiert"
   ],
   "cell_type": "markdown",
   "metadata": {}
  },
  {
   "cell_type": "code",
   "execution_count": 5,
   "metadata": {},
   "outputs": [],
   "source": [
    "cl = NaiveBayesClassifier(train)"
   ]
  },
  {
   "source": [
    "Zudem erfassen wir über eine RegEx Geldbeträge "
   ],
   "cell_type": "markdown",
   "metadata": {}
  },
  {
   "cell_type": "code",
   "execution_count": 6,
   "metadata": {},
   "outputs": [],
   "source": [
    "df[\"sentiment\"] = 0\n",
    "df[\"geldbetrag\"] = None"
   ]
  },
  {
   "cell_type": "code",
   "execution_count": 7,
   "metadata": {},
   "outputs": [],
   "source": [
    "regExGeld = r\"(\\d{0,3}\\.?)\\d{0,3},\\d{2,3}\\s?(Mrd\\.\\s)?\\€\"\n"
   ]
  },
  {
   "source": [
    "Diese Funktion wird auf jede Zeile des DataFrames angewendet. Sie berechnet für die ersten drei Sätze das Sentiment mit dem NaiveBayesClassifier und bildet daraus den Mittelwert, der in die Zeile geschrieben wird. Diese Methode wurde durch Ausprobieren optimiert. Mit 3 Sätzen schien das Ergebnis am besten, da die Gerichtstexte ähnlich aufgebaut sind und der NaiveBayesClassifier wenig Trainingsdaten verwendet, die hauptsächlich auf diesem Bereich basieren.\n",
    "Außerdem werden über die Regex alle im Text vorkommenden Geldbeträge gesucht und in die Zeile geschrieben. "
   ],
   "cell_type": "markdown",
   "metadata": {}
  },
  {
   "cell_type": "code",
   "execution_count": 13,
   "metadata": {},
   "outputs": [],
   "source": [
    "def calculateSentimentAndFindMoney(row):\n",
    "    b= TextBlob(str(row.content))\n",
    "    numberOfSentences = 3\n",
    "    if len(b.sentences) >= numberOfSentences:\n",
    "        first = b.sentences[1:numberOfSentences]\n",
    "        sents = [s.raw for s in first]\n",
    "    else:\n",
    "        sents = [s.raw for s in b.sentences]\n",
    "    allSentsSum = 0\n",
    "    for s in sents:\n",
    "        allSentsSum += cl.classify(s)\n",
    "    \n",
    "    row.sentiment= allSentsSum / len(sents)\n",
    "\n",
    "\n",
    "    geldbetraege = [x.group() for x in re.finditer(pattern=regExGeld, string=str(row.content))]\n",
    "    row.geldbetrag = geldbetraege\n",
    "    return row"
   ]
  },
  {
   "source": [
    "Anwenden der Funktion auf den Datensatz, zeilenweise"
   ],
   "cell_type": "markdown",
   "metadata": {}
  },
  {
   "cell_type": "code",
   "execution_count": 14,
   "metadata": {
    "tags": []
   },
   "outputs": [],
   "source": [
    "df = df.apply(calculateSentimentAndFindMoney, axis=1)"
   ]
  },
  {
   "cell_type": "code",
   "execution_count": 13,
   "metadata": {},
   "outputs": [
    {
     "output_type": "execute_result",
     "data": {
      "text/plain": [
       "0                                          [6.150,23 €]\n",
       "1                                         [15.000,00 €]\n",
       "2                                                    []\n",
       "3                                                    []\n",
       "4                                        [915.000,00 €]\n",
       "                            ...                        \n",
       "95                                                   []\n",
       "96                                                   []\n",
       "97                                                   []\n",
       "98    [12.125,97 €, 1.180,50 €, 20.000,00 €, 16.572,...\n",
       "99                                                   []\n",
       "Name: geldbetrag, Length: 100, dtype: object"
      ]
     },
     "metadata": {},
     "execution_count": 13
    }
   ],
   "source": [
    "df.geldbetrag"
   ]
  },
  {
   "source": [
    "Abschließendes Speichern als csv"
   ],
   "cell_type": "markdown",
   "metadata": {}
  },
  {
   "cell_type": "code",
   "execution_count": 15,
   "metadata": {},
   "outputs": [],
   "source": [
    "df.to_csv(\"C:/Users/Sebastian/Desktop/Uni/NLP/23-12_cleaned_cases_with_sentiments.csv\")"
   ]
  },
  {
   "cell_type": "code",
   "execution_count": null,
   "metadata": {},
   "outputs": [],
   "source": []
  }
 ]
}